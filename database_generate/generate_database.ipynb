{
  "nbformat": 4,
  "nbformat_minor": 0,
  "metadata": {
    "colab": {
      "name": "generate database",
      "provenance": [],
      "collapsed_sections": []
    },
    "kernelspec": {
      "name": "python3",
      "display_name": "Python 3"
    }
  },
  "cells": [
    {
      "cell_type": "code",
      "metadata": {
        "id": "HXsp0ZQb_Msa",
        "colab_type": "code",
        "colab": {
          "base_uri": "https://localhost:8080/",
          "height": 34
        },
        "outputId": "c05cef50-a36c-4a5c-a004-6ab0b1ef4a01"
      },
      "source": [
        "# product database\n",
        "# Three table for the on the firebase\n",
        "\"\"\"\n",
        "TABLE products\n",
        "productName, \n",
        "productHashID, \n",
        "productPhoto, \n",
        "productDescription, \n",
        "productStyles, \n",
        "shippingInfo,\n",
        "productCompanyID\n",
        "productCompanyName\n",
        "\"\"\"\n",
        "\"\"\"\n",
        "TABLE companies\n",
        "companyName,\n",
        "companyHashID,\n",
        "companyPassword,\n",
        "companyPhoto,\n",
        "companyDescription,\n",
        "companyPhone,\n",
        "companyEmail,\n",
        "companyWebsite,\n",
        "companyOfficeAddress,\n",
        "companyPostal\n",
        "\"\"\"\n",
        "\n",
        "\"\"\"\n",
        "TABLE users\n",
        "userHashID,\n",
        "userPhoto,\n",
        "userName,\n",
        "userPassword,\n",
        "userPhone,\n",
        "userEmail,\n",
        "userAddress,\n",
        "<Gender, Age>\n",
        "\"\"\""
      ],
      "execution_count": 107,
      "outputs": [
        {
          "output_type": "execute_result",
          "data": {
            "text/plain": [
              "'\\nTABLE users\\nuserHashID,\\nuserPhoto,\\nuserName,\\nuserPassword,\\nuserPhone,\\nuserEmail,\\nuserAddress,\\n<Gender, Age>\\n'"
            ]
          },
          "metadata": {
            "tags": []
          },
          "execution_count": 107
        }
      ]
    },
    {
      "cell_type": "code",
      "metadata": {
        "id": "_TbIz1J-CYd8",
        "colab_type": "code",
        "colab": {}
      },
      "source": [
        "import json\n",
        "import random"
      ],
      "execution_count": 0,
      "outputs": []
    },
    {
      "cell_type": "code",
      "metadata": {
        "id": "jKH0lHzDHB-C",
        "colab_type": "code",
        "colab": {}
      },
      "source": [
        "def java_string_hashcode(s):\n",
        "    h = 0\n",
        "    for c in s:\n",
        "        h = (31 * h + ord(c)) & 0xFFFFFFFF\n",
        "    return ((h + 0x80000000) & 0xFFFFFFFF) - 0x80000000"
      ],
      "execution_count": 0,
      "outputs": []
    },
    {
      "cell_type": "code",
      "metadata": {
        "id": "IrMjDKdwCqDD",
        "colab_type": "code",
        "colab": {}
      },
      "source": [
        "funiture_words = [\"table\", \"chair\", \"bed\", \"cupboard\", \"cabinetry\", \"desk\", \"chest\", \n",
        "            \"bookcase\", \"sideboard\", \"closet\", \"lamp\", \"couch\", \"shelf\", \"matress\"]\n",
        "material_words = [\"leather\", \"wooden\", \"fabric\", \"wool\"]\n",
        "companyname_words = [\"Kexin's\",\"Yinghui's\",\"Yan's\",\"Bonjoon's\",\"Kevin's\",\"Tommy's\",\"Tianyi's\"]\n",
        "companytype_words = [\"shop\", \"Company\",\"Store\",\" \",\"Boutique\",\"House\", \"Workshop\", \"Antique\"]\n",
        "address_words = [\"Plymouth Rd.\", \"Huron Rd.\"]\n",
        "style_words = [\"lovely\", \"baby\", \"luxury\", \"effective\", \"sale\"]\n",
        "shippingInfo_words = [\"free shipping\", \"free shipping over 25 dollars\", \"$8 dollars\"]"
      ],
      "execution_count": 0,
      "outputs": []
    },
    {
      "cell_type": "code",
      "metadata": {
        "id": "4X5gsusXYyjf",
        "colab_type": "code",
        "colab": {
          "base_uri": "https://localhost:8080/",
          "height": 224
        },
        "outputId": "2bddf651-37ff-4412-8513-521f983cd5bc"
      },
      "source": [
        "# start generating the company table\n",
        "company_num = 5\n",
        "company_dict = {}\n",
        "\"\"\"\n",
        "TABLE companies\n",
        "companyName,\n",
        "companyHashID,\n",
        "companyPassword,\n",
        "companyPhoto,\n",
        "companyDescription,\n",
        "companyPhone,\n",
        "companyEmail,\n",
        "companyWebsite,\n",
        "companyOfficeAddress,\n",
        "companyPostal\n",
        "\"\"\"\n",
        "for i in range(company_num):\n",
        "  print(i)\n",
        "  company = {}\n",
        "  company[\"companyName\"] = random.choice(companyname_words) + \" \"+ random.choice(companytype_words)\n",
        "  company[\"companyHashID\"] = str(java_string_hashcode(company[\"companyName\"]))\n",
        "  company[\"companyPassword\"] = \"password**\"\n",
        "  company[\"companyPhoto\"] = \"imgurl**\"\n",
        "  company[\"companyDescription\"] = \"description****\"\n",
        "  company[\"companyPhone\"] = random.choice(range(1000000000,9999999999))\n",
        "  company[\"companyEmail\"] = company[\"companyName\"].replace(\" \",\"_\").replace(\"'\",\"\") + \"@arapp.com\"\n",
        "  company[\"companyWebsite\"] = company[\"companyName\"].replace(\" \",\"_\").replace(\"'\",\"\") + random.choice([\".com\",\".org\",\".cn\"])\n",
        "  company[\"companyOfficeAddress\"] = str(random.choice(range(1000,9999))) + \" \" + random.choice(address_words)\n",
        "  company[\"companyPostal\"] = str(48)+str(random.choice(range(100,999)))\n",
        "  print(company[\"companyHashID\"])\n",
        "  company_dict[company[\"companyHashID\"]] = company\n",
        "\n",
        "print(company_dict)\n",
        "with open('companies.json', 'w') as outfile:\n",
        "  json.dump(company_dict, outfile)\n",
        "from google.colab import files\n",
        "files.download(\"companies.json\")"
      ],
      "execution_count": 112,
      "outputs": [
        {
          "output_type": "stream",
          "text": [
            "0\n",
            "-242087652\n",
            "1\n",
            "1803104758\n",
            "2\n",
            "779395093\n",
            "3\n",
            "1217623749\n",
            "4\n",
            "-793841958\n",
            "{'-242087652': {'companyName': \"Yinghui's Company\", 'companyHashID': '-242087652', 'companyPassword': 'password**', 'companyPhoto': 'imgurl**', 'companyDescription': 'description****', 'companyPhone': 7318487889, 'companyEmail': 'Yinghuis_Company@arapp.com', 'companyWebsite': 'Yinghuis_Company.cn', 'companyOfficeAddress': '4435 Plymouth Rd.', 'companyPostal': '48436'}, '1803104758': {'companyName': \"Bonjoon's Workshop\", 'companyHashID': '1803104758', 'companyPassword': 'password**', 'companyPhoto': 'imgurl**', 'companyDescription': 'description****', 'companyPhone': 2497500857, 'companyEmail': 'Bonjoons_Workshop@arapp.com', 'companyWebsite': 'Bonjoons_Workshop.org', 'companyOfficeAddress': '1060 Huron Rd.', 'companyPostal': '48677'}, '779395093': {'companyName': \"Yan's Workshop\", 'companyHashID': '779395093', 'companyPassword': 'password**', 'companyPhoto': 'imgurl**', 'companyDescription': 'description****', 'companyPhone': 3158859357, 'companyEmail': 'Yans_Workshop@arapp.com', 'companyWebsite': 'Yans_Workshop.cn', 'companyOfficeAddress': '4534 Plymouth Rd.', 'companyPostal': '48531'}, '1217623749': {'companyName': \"Bonjoon's shop\", 'companyHashID': '1217623749', 'companyPassword': 'password**', 'companyPhoto': 'imgurl**', 'companyDescription': 'description****', 'companyPhone': 7898822159, 'companyEmail': 'Bonjoons_shop@arapp.com', 'companyWebsite': 'Bonjoons_shop.com', 'companyOfficeAddress': '4473 Plymouth Rd.', 'companyPostal': '48178'}, '-793841958': {'companyName': \"Tommy's Boutique\", 'companyHashID': '-793841958', 'companyPassword': 'password**', 'companyPhoto': 'imgurl**', 'companyDescription': 'description****', 'companyPhone': 3990230921, 'companyEmail': 'Tommys_Boutique@arapp.com', 'companyWebsite': 'Tommys_Boutique.com', 'companyOfficeAddress': '4525 Huron Rd.', 'companyPostal': '48980'}}\n"
          ],
          "name": "stdout"
        }
      ]
    },
    {
      "cell_type": "code",
      "metadata": {
        "id": "VYbaC_M_FUo1",
        "colab_type": "code",
        "colab": {
          "base_uri": "https://localhost:8080/",
          "height": 54
        },
        "outputId": "5e3960b1-dd00-4bf6-bc64-9b65878fd148"
      },
      "source": [
        "# start generating the products table\n",
        "product_num = 5\n",
        "product_dict = {}\n",
        "\"\"\"\n",
        "TABLE products\n",
        "productName, \n",
        "productHashID, \n",
        "productPhoto, \n",
        "productDescription, \n",
        "productStyles, \n",
        "shippingInfo,\n",
        "productCompanyID\n",
        "productCompanyName\n",
        "\"\"\"\n",
        "for i in range(product_num):\n",
        "  product = {}\n",
        "  product[\"productName\"] = random.choice(material_words) + \" \"+ random.choice(funiture_words)\n",
        "  product[\"productHashID\"] = str(java_string_hashcode(product[\"productName\"]))\n",
        "  product[\"productPhoto\"] = \"imgurl**\"\n",
        "  product[\"productDescription\"] = \"description****\"\n",
        "  product[\"productStyles\"] = random.choice(style_words)\n",
        "  product[\"shippingInfo\"] = random.choice(shippingInfo_words)\n",
        "  product[\"productCompanyID\"] = random.choice(list(company_dict.keys()))\n",
        "  product[\"productCompanyName\"] = company_dict[product[\"productCompanyID\"]][\"companyName\"]\n",
        "  product_dict[product[\"productHashID\"]] = product\n",
        "\n",
        "print(product_dict)\n",
        "with open('products.json', 'w') as outfile:\n",
        "  json.dump(product_dict, outfile)\n",
        "from google.colab import files\n",
        "files.download(\"products.json\")"
      ],
      "execution_count": 114,
      "outputs": [
        {
          "output_type": "stream",
          "text": [
            "{'46676311': {'productName': 'fabric closet', 'productHashID': '46676311', 'productPhoto': 'imgurl**', 'productDescription': 'description****', 'productStyles': 'luxury', 'shippingInfo': 'free shipping over 25 dollars', 'productCompanyID': '-793841958', 'productCompanyName': \"Tommy's Boutique\"}, '-1583122422': {'productName': 'leather bed', 'productHashID': '-1583122422', 'productPhoto': 'imgurl**', 'productDescription': 'description****', 'productStyles': 'baby', 'shippingInfo': 'free shipping over 25 dollars', 'productCompanyID': '-793841958', 'productCompanyName': \"Tommy's Boutique\"}, '-314555580': {'productName': 'wooden table', 'productHashID': '-314555580', 'productPhoto': 'imgurl**', 'productDescription': 'description****', 'productStyles': 'sale', 'shippingInfo': 'free shipping', 'productCompanyID': '-242087652', 'productCompanyName': \"Yinghui's Company\"}, '1387073651': {'productName': 'fabric couch', 'productHashID': '1387073651', 'productPhoto': 'imgurl**', 'productDescription': 'description****', 'productStyles': 'luxury', 'shippingInfo': '$8 dollars', 'productCompanyID': '1803104758', 'productCompanyName': \"Bonjoon's Workshop\"}, '164506725': {'productName': 'wooden sideboard', 'productHashID': '164506725', 'productPhoto': 'imgurl**', 'productDescription': 'description****', 'productStyles': 'lovely', 'shippingInfo': 'free shipping over 25 dollars', 'productCompanyID': '779395093', 'productCompanyName': \"Yan's Workshop\"}}\n"
          ],
          "name": "stdout"
        }
      ]
    },
    {
      "cell_type": "code",
      "metadata": {
        "id": "BG1UZVDQgJHp",
        "colab_type": "code",
        "colab": {
          "base_uri": "https://localhost:8080/",
          "height": 54
        },
        "outputId": "c670a8a7-dd76-4d9e-94c7-b375df38ee83"
      },
      "source": [
        "user_num = 10\n",
        "user_dict = {}\n",
        "\"\"\"\n",
        "TABLE users\n",
        "userName,\n",
        "userHashID,\n",
        "userPassword,\n",
        "userPhoto,\n",
        "userPhone,\n",
        "userEmail,\n",
        "userAddress,\n",
        "<Gender, Age>\n",
        "\"\"\"\n",
        "for i in range(user_num):\n",
        "  user = {}\n",
        "  user[\"userName\"] = random.choice(material_words) + \" \"+ random.choice(funiture_words)\n",
        "  user[\"userHashID\"] = str(java_string_hashcode(user[\"userName\"]))\n",
        "  user[\"userPassword\"] = \"password**\"\n",
        "  user[\"userPhoto\"] = \"imgurl**\"\n",
        "  user[\"userPhone\"] = random.choice(range(1000000000,9999999999))\n",
        "  user[\"userEmail\"] = user[\"userName\"].replace(\" \",\"_\").replace(\"'\",\"\") + \"@gmail.com\"\n",
        "  user[\"userAddress\"] = str(random.choice(range(1000,9999))) + \" \" + random.choice(address_words)\n",
        "  user_dict[user[\"userHashID\"]] = user\n",
        "\n",
        "print(user_dict)\n",
        "with open('users.json', 'w') as outfile:\n",
        "  json.dump(user_dict, outfile)\n",
        "from google.colab import files\n",
        "files.download(\"users.json\")"
      ],
      "execution_count": 116,
      "outputs": [
        {
          "output_type": "stream",
          "text": [
            "{'606705429': {'userName': 'wooden cabinetry', 'userHashID': '606705429', 'userPassword': 'password**', 'userPhoto': 'imgurl**', 'userPhone': 8677001782, 'userEmail': 'wooden_cabinetry@gmail.com', 'userAddress': '2590 Huron Rd.'}, '-315267680': {'userName': 'wooden shelf', 'userHashID': '-315267680', 'userPassword': 'password**', 'userPhoto': 'imgurl**', 'userPhone': 9125234934, 'userEmail': 'wooden_shelf@gmail.com', 'userAddress': '2929 Plymouth Rd.'}, '1153377395': {'userName': 'fabric lamp', 'userHashID': '1153377395', 'userPassword': 'password**', 'userPhoto': 'imgurl**', 'userPhone': 9244169099, 'userEmail': 'fabric_lamp@gmail.com', 'userAddress': '2634 Huron Rd.'}, '1387073651': {'userName': 'fabric couch', 'userHashID': '1387073651', 'userPassword': 'password**', 'userPhoto': 'imgurl**', 'userPhone': 3689050734, 'userEmail': 'fabric_couch@gmail.com', 'userAddress': '3706 Huron Rd.'}, '-1832094672': {'userName': 'leather desk', 'userHashID': '-1832094672', 'userPassword': 'password**', 'userPhoto': 'imgurl**', 'userPhone': 2260726994, 'userEmail': 'leather_desk@gmail.com', 'userAddress': '5955 Plymouth Rd.'}, '-946431117': {'userName': 'leather shelf', 'userHashID': '-946431117', 'userPassword': 'password**', 'userPhoto': 'imgurl**', 'userPhone': 9477430729, 'userEmail': 'leather_shelf@gmail.com', 'userAddress': '7011 Plymouth Rd.'}, '-1902466426': {'userName': 'fabric bed', 'userHashID': '-1902466426', 'userPassword': 'password**', 'userPhoto': 'imgurl**', 'userPhone': 6254520450, 'userEmail': 'fabric_bed@gmail.com', 'userAddress': '4061 Plymouth Rd.'}, '-1968210617': {'userName': 'wool closet', 'userHashID': '-1968210617', 'userPassword': 'password**', 'userPhoto': 'imgurl**', 'userPhone': 6786329575, 'userEmail': 'wool_closet@gmail.com', 'userAddress': '1708 Plymouth Rd.'}, '-51680106': {'userName': 'wool bed', 'userHashID': '-51680106', 'userPassword': 'password**', 'userPhoto': 'imgurl**', 'userPhone': 1216702025, 'userEmail': 'wool_bed@gmail.com', 'userAddress': '6295 Huron Rd.'}}\n"
          ],
          "name": "stdout"
        }
      ]
    }
  ]
}